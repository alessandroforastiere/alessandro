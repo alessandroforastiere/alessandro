{
 "cells": [
  {
   "cell_type": "code",
   "execution_count": 1,
   "id": "583011b5",
   "metadata": {},
   "outputs": [],
   "source": [
    "%load_ext autoreload\n",
    "%autoreload 2"
   ]
  },
  {
   "cell_type": "code",
   "execution_count": 2,
   "id": "e2edf085",
   "metadata": {},
   "outputs": [
    {
     "name": "stdout",
     "output_type": "stream",
     "text": [
      "/net/bs-filesvr01/export/group/hierlemann/spikesorting/miniconda3/envs/si2/bin/python\r\n"
     ]
    }
   ],
   "source": [
    "!which python"
   ]
  },
  {
   "cell_type": "code",
   "execution_count": 3,
   "id": "6f5f4803",
   "metadata": {},
   "outputs": [],
   "source": [
    "import spikeinterface.full as si\n",
    "import spikeinterface.sortingcomponents as sc\n",
    "import belextractors as be\n",
    "import spikeinterface.widgets as sw\n",
    "import spikeinterface.extractors as se\n",
    "\n",
    "from pathlib import Path\n",
    "import matplotlib.pyplot as plt\n",
    "\n",
    "import h5py\n",
    "import numpy as np\n",
    "import spikeinterface.toolkit as tk\n",
    "import time\n",
    "\n",
    "%matplotlib widget"
   ]
  },
  {
   "cell_type": "code",
   "execution_count": 4,
   "id": "d8b3887a",
   "metadata": {},
   "outputs": [],
   "source": [
    "#Config p1c2 (HD)\n",
    "ncmos_path = Path(\"/net/bs-filesvr02/export/group/hierlemann/intermediate_data/NeuroCMOS/aforastiere/Thesis/First neuroplating/20220614-Hasan/Chip148/ncmos_20220614_141348.h5\")"
   ]
  },
  {
   "cell_type": "code",
   "execution_count": 5,
   "id": "92f2731c",
   "metadata": {},
   "outputs": [],
   "source": [
    "rec = be.NeuroCMOSRecordingExtractor(ncmos_path, 'rec00000')"
   ]
  },
  {
   "cell_type": "code",
   "execution_count": null,
   "id": "d3f38472",
   "metadata": {},
   "outputs": [],
   "source": [
    "fig=plt.figure()\n",
    "si.plot_probe_map(rec)\n",
    "plt.savefig(\"Electrode map configuration.pdf\")\n",
    "#plt.colorbar(label=\"prova\")"
   ]
  },
  {
   "cell_type": "code",
   "execution_count": 6,
   "id": "adb4ffdf",
   "metadata": {},
   "outputs": [],
   "source": [
    "rec_f = si.bandpass_filter(rec)"
   ]
  },
  {
   "cell_type": "code",
   "execution_count": null,
   "id": "b3658979",
   "metadata": {},
   "outputs": [],
   "source": [
    "peaks = sc.detect_peaks(rec_f, n_jobs=16, total_memory=\"1G\", progress_bar=True)"
   ]
  },
  {
   "cell_type": "code",
   "execution_count": null,
   "id": "04a6fa4b",
   "metadata": {},
   "outputs": [],
   "source": [
    "len(peaks)"
   ]
  },
  {
   "cell_type": "code",
   "execution_count": null,
   "id": "9f3e89ea",
   "metadata": {},
   "outputs": [],
   "source": [
    "un_ind, counts = np.unique(peaks[\"channel_ind\"], return_counts=True)"
   ]
  },
  {
   "cell_type": "code",
   "execution_count": null,
   "id": "e6c4e101",
   "metadata": {},
   "outputs": [],
   "source": [
    "rates = counts / (rec.get_num_samples() / rec.get_sampling_frequency())"
   ]
  },
  {
   "cell_type": "code",
   "execution_count": null,
   "id": "0641f8b3",
   "metadata": {},
   "outputs": [],
   "source": [
    "plt.figure()\n",
    "_ = plt.hist(rates,bins=100)\n",
    "plt.ylabel('Number of electrodes')\n",
    "plt.xlabel('Spikes frequency (Hz)')\n",
    "plt.savefig(\"Electrode activity.pdf\")\n"
   ]
  },
  {
   "cell_type": "code",
   "execution_count": null,
   "id": "54520bc1",
   "metadata": {},
   "outputs": [],
   "source": [
    "electrodes = rec_f.get_property(\"electrode\")"
   ]
  },
  {
   "cell_type": "code",
   "execution_count": null,
   "id": "50cb78af",
   "metadata": {},
   "outputs": [],
   "source": [
    "electrode_rates = {}\n",
    "for (ind, rate) in zip(un_ind, rates):\n",
    "    electrode_rates[electrodes[ind]] = rate"
   ]
  },
  {
   "cell_type": "code",
   "execution_count": null,
   "id": "d561af3d",
   "metadata": {},
   "outputs": [],
   "source": [
    "#accoppia elettrodo con il rate rilevato prima dello spike sorting\n",
    "electrode_rates"
   ]
  },
  {
   "cell_type": "code",
   "execution_count": null,
   "id": "c769ff4a",
   "metadata": {},
   "outputs": [],
   "source": [
    "si.plot_peak_activity_map(rec_f, peaks)\n",
    "fig = plt.gcf()\n",
    "ax = plt.gca()\n",
    "fig.colorbar(ax.get_children()[-2],label='Frequency (Hz)')\n",
    "plt.title('')"
   ]
  },
  {
   "cell_type": "code",
   "execution_count": null,
   "id": "28893561",
   "metadata": {},
   "outputs": [],
   "source": [
    "import pickle\n",
    "pickle.dump(fig, open('Electrodemapactivity.pkl', 'wb')) \n",
    "figx = pickle.load(open('Electrodemapactivity.pkl', 'rb'))"
   ]
  },
  {
   "cell_type": "code",
   "execution_count": null,
   "id": "6ccfda30",
   "metadata": {},
   "outputs": [],
   "source": [
    "si.plot_probe_map(rec,show_channel_on_click = True)"
   ]
  },
  {
   "cell_type": "code",
   "execution_count": null,
   "id": "57d7783c",
   "metadata": {},
   "outputs": [],
   "source": [
    "rec_f.get_channel_ids()[1652]"
   ]
  },
  {
   "cell_type": "code",
   "execution_count": null,
   "id": "a034c0a7",
   "metadata": {
    "scrolled": false
   },
   "outputs": [],
   "source": [
    "sort_tdc = si.run_tridesclous(rec_f, output_folder=\"scan\", n_jobs_bin=8, total_memory=\"2G\",\n",
    "                              verbose=True)"
   ]
  },
  {
   "cell_type": "code",
   "execution_count": 7,
   "id": "c07a942f",
   "metadata": {},
   "outputs": [
    {
     "name": "stdout",
     "output_type": "stream",
     "text": [
      "h5py version > 2.10.0. Some extractors might not work properly. It is recommended to downgrade to version 2.10.0: \n",
      ">>> pip install h5py==2.10.0\n"
     ]
    },
    {
     "ename": "TypeError",
     "evalue": "'NoneType' object is not subscriptable",
     "output_type": "error",
     "traceback": [
      "\u001b[0;31m---------------------------------------------------------------------------\u001b[0m",
      "\u001b[0;31mTypeError\u001b[0m                                 Traceback (most recent call last)",
      "\u001b[0;32m<ipython-input-7-fd8d9d31fc37>\u001b[0m in \u001b[0;36m<module>\u001b[0;34m\u001b[0m\n\u001b[0;32m----> 1\u001b[0;31m \u001b[0msort_tdc\u001b[0m \u001b[0;34m=\u001b[0m \u001b[0msi\u001b[0m\u001b[0;34m.\u001b[0m\u001b[0mTridesclousSortingExtractor\u001b[0m\u001b[0;34m(\u001b[0m\u001b[0;34m\"/links/groups/hierlemann/Temp/Alessandro/SpikeSorting/Hasan's chips/20220614-Hasan/Chip148/141348/scan\"\u001b[0m\u001b[0;34m)\u001b[0m\u001b[0;34m\u001b[0m\u001b[0;34m\u001b[0m\u001b[0m\n\u001b[0m",
      "\u001b[0;32m/net/bs-filesvr01/export/group/hierlemann/spikesorting/SpikeInterface/new_api/spikeinterface/spikeinterface/extractors/tridesclousextractors.py\u001b[0m in \u001b[0;36m__init__\u001b[0;34m(self, folder_path, chan_grp)\u001b[0m\n\u001b[1;32m     29\u001b[0m         \u001b[0mcatalogue\u001b[0m \u001b[0;34m=\u001b[0m \u001b[0mdataio\u001b[0m\u001b[0;34m.\u001b[0m\u001b[0mload_catalogue\u001b[0m\u001b[0;34m(\u001b[0m\u001b[0mname\u001b[0m\u001b[0;34m=\u001b[0m\u001b[0;34m'initial'\u001b[0m\u001b[0;34m,\u001b[0m \u001b[0mchan_grp\u001b[0m\u001b[0;34m=\u001b[0m\u001b[0mchan_grp\u001b[0m\u001b[0;34m)\u001b[0m\u001b[0;34m\u001b[0m\u001b[0;34m\u001b[0m\u001b[0m\n\u001b[1;32m     30\u001b[0m \u001b[0;34m\u001b[0m\u001b[0m\n\u001b[0;32m---> 31\u001b[0;31m         \u001b[0mlabels\u001b[0m \u001b[0;34m=\u001b[0m \u001b[0mcatalogue\u001b[0m\u001b[0;34m[\u001b[0m\u001b[0;34m'clusters'\u001b[0m\u001b[0;34m]\u001b[0m\u001b[0;34m[\u001b[0m\u001b[0;34m'cluster_label'\u001b[0m\u001b[0;34m]\u001b[0m\u001b[0;34m\u001b[0m\u001b[0;34m\u001b[0m\u001b[0m\n\u001b[0m\u001b[1;32m     32\u001b[0m         \u001b[0mlabels\u001b[0m \u001b[0;34m=\u001b[0m \u001b[0mlabels\u001b[0m\u001b[0;34m[\u001b[0m\u001b[0mlabels\u001b[0m \u001b[0;34m>=\u001b[0m \u001b[0;36m0\u001b[0m\u001b[0;34m]\u001b[0m\u001b[0;34m\u001b[0m\u001b[0;34m\u001b[0m\u001b[0m\n\u001b[1;32m     33\u001b[0m         \u001b[0munit_ids\u001b[0m \u001b[0;34m=\u001b[0m \u001b[0mlist\u001b[0m\u001b[0;34m(\u001b[0m\u001b[0mlabels\u001b[0m\u001b[0;34m)\u001b[0m\u001b[0;34m\u001b[0m\u001b[0;34m\u001b[0m\u001b[0m\n",
      "\u001b[0;31mTypeError\u001b[0m: 'NoneType' object is not subscriptable"
     ]
    }
   ],
   "source": [
    "sort_tdc = si.TridesclousSortingExtractor(\"/links/groups/hierlemann/Temp/Alessandro/SpikeSorting/Hasan's chips/20220614-Hasan/Chip148/141348/scan\")"
   ]
  },
  {
   "cell_type": "code",
   "execution_count": null,
   "id": "f9b826df",
   "metadata": {},
   "outputs": [],
   "source": [
    "sort_tdc = si.TridesclousSortingExtractor(\"scan/\")"
   ]
  },
  {
   "cell_type": "code",
   "execution_count": null,
   "id": "7062497e",
   "metadata": {},
   "outputs": [],
   "source": [
    "si.plot_rasters(sort_tdc)\n",
    "plt.ylabel('Neuron')\n",
    "plt.xlabel('Time (s)')\n",
    "fig=plt.gcf()\n",
    "ax=plt.gca()"
   ]
  },
  {
   "cell_type": "code",
   "execution_count": null,
   "id": "374f2881",
   "metadata": {
    "scrolled": false
   },
   "outputs": [],
   "source": [
    "pickle.dump(fig, open('Raster.pkl', 'wb')) \n",
    "figx = pickle.load(open('Raster.pkl', 'rb'))"
   ]
  },
  {
   "cell_type": "code",
   "execution_count": null,
   "id": "875b55a5",
   "metadata": {},
   "outputs": [],
   "source": [
    "we = si.extract_waveforms(rec_f, sort_tdc, \"retina_wf_tdc\",ms_before=1.5,\n",
    "    ms_after=2.,    max_spikes_per_unit=500, n_jobs=8,\n",
    "                          total_memory=\"2G\", progress_bar=True, load_if_exists=True, \n",
    "                          return_scaled=True)"
   ]
  },
  {
   "cell_type": "code",
   "execution_count": null,
   "id": "55f98d21",
   "metadata": {},
   "outputs": [],
   "source": [
    "templates = we.get_all_templates()"
   ]
  },
  {
   "cell_type": "code",
   "execution_count": null,
   "id": "31f897a5",
   "metadata": {},
   "outputs": [],
   "source": [
    "len(templates)"
   ]
  },
  {
   "cell_type": "code",
   "execution_count": null,
   "id": "3e035c24",
   "metadata": {},
   "outputs": [],
   "source": [
    "fig, ax = plt.subplots()\n",
    "axes = [ax] * len(templates)\n",
    "w = si.plot_unit_templates(we, radius_um=50, axes=axes)\n",
    "plt.title('')"
   ]
  },
  {
   "cell_type": "code",
   "execution_count": null,
   "id": "80081ac6",
   "metadata": {},
   "outputs": [],
   "source": [
    "pickle.dump(fig, open('Templates.pkl', 'wb')) \n",
    "figx = pickle.load(open('Templates.pkl', 'rb'))"
   ]
  },
  {
   "cell_type": "code",
   "execution_count": null,
   "id": "227d8abd",
   "metadata": {},
   "outputs": [],
   "source": [
    "unit_ids = sort_tdc.unit_ids[:]\n",
    "si.plot_unit_templates(we, unit_ids=[0])"
   ]
  },
  {
   "cell_type": "code",
   "execution_count": null,
   "id": "ef884408",
   "metadata": {},
   "outputs": [],
   "source": [
    "sw.plot_unit_waveforms(we, unit_ids=[0])"
   ]
  },
  {
   "cell_type": "code",
   "execution_count": null,
   "id": "b6a84260",
   "metadata": {},
   "outputs": [],
   "source": [
    "si.plot_crosscorrelograms(sort_tdc, unit_ids=[3,10], symmetrize=True)\n",
    "fig=plt.gcf()\n",
    "ax=plt.gca()\n",
    "names=[\"Counts\",\"Counts\",\"Counts\",\"Counts\"]\n",
    "for i,name in enumerate(names) :\n",
    "    plt.subplot(2,2,i+1)\n",
    "    plt.ylabel(name)\n",
    "    plt.xlabel('Time delay (ms)')\n",
    "    "
   ]
  },
  {
   "cell_type": "code",
   "execution_count": null,
   "id": "045660b0",
   "metadata": {},
   "outputs": [],
   "source": [
    "pickle.dump(fig, open('CGs.pkl', 'wb')) \n",
    "figx = pickle.load(open('CGs.pkl', 'rb'))"
   ]
  },
  {
   "cell_type": "code",
   "execution_count": null,
   "id": "a00857b6",
   "metadata": {},
   "outputs": [],
   "source": [
    "#si.plot_unit_probe_map(we, unit_ids=[23])"
   ]
  },
  {
   "cell_type": "code",
   "execution_count": null,
   "id": "e97a1231",
   "metadata": {},
   "outputs": [],
   "source": [
    "#si.plot_crosscorrelograms?"
   ]
  },
  {
   "cell_type": "code",
   "execution_count": null,
   "id": "be499b28",
   "metadata": {
    "scrolled": false
   },
   "outputs": [],
   "source": [
    "#si.plot_peak_activity_map?"
   ]
  },
  {
   "cell_type": "code",
   "execution_count": null,
   "id": "eb8a7f31",
   "metadata": {},
   "outputs": [],
   "source": [
    "w_isi = sw.plot_isi_distribution(sort_tdc, window_ms=150.0, bin_ms=5.0)"
   ]
  },
  {
   "cell_type": "code",
   "execution_count": null,
   "id": "17118722",
   "metadata": {},
   "outputs": [],
   "source": [
    "unit_ids = sort_tdc.unit_ids[:]\n",
    "# sw.plot_unit_waveform_density_map(we, unit_ids=unit_ids, max_channels=5)"
   ]
  },
  {
   "cell_type": "code",
   "execution_count": null,
   "id": "2efc485f",
   "metadata": {},
   "outputs": [],
   "source": [
    "# sw.plot_amplitudes_distribution(we)\n",
    "# plt.ylabel('Amplitude?')\n",
    "# plt.xlabel('Neuron')"
   ]
  },
  {
   "cell_type": "code",
   "execution_count": null,
   "id": "6ddcee17",
   "metadata": {},
   "outputs": [],
   "source": [
    "# sw.plot_amplitudes_timeseries(we)"
   ]
  },
  {
   "cell_type": "code",
   "execution_count": null,
   "id": "91a4e2b6",
   "metadata": {},
   "outputs": [],
   "source": []
  },
  {
   "cell_type": "code",
   "execution_count": null,
   "id": "a12ef8c9",
   "metadata": {},
   "outputs": [],
   "source": [
    "pickle.dump(fig1, open('Activ', 'wb')) \n",
    "figx = pickle.load(open('Activ', 'rb'))"
   ]
  },
  {
   "cell_type": "code",
   "execution_count": null,
   "id": "e6bd10e8",
   "metadata": {},
   "outputs": [],
   "source": [
    "unit_ids"
   ]
  },
  {
   "cell_type": "code",
   "execution_count": null,
   "id": "3401fe8d",
   "metadata": {},
   "outputs": [],
   "source": [
    "#firing rate\n",
    "freq=[]\n",
    "for un in unit_ids:\n",
    "    st = sort_tdc.get_unit_spike_train(unit_id=un, segment_index=0)\n",
    "    print('Num. events for unit 1seg0 = {}'.format(len(st)/123.5))\n",
    "    freq.append(len(st)/123.5)\n"
   ]
  },
  {
   "cell_type": "code",
   "execution_count": null,
   "id": "c4a827f5",
   "metadata": {},
   "outputs": [],
   "source": [
    "fig, ax = plt.subplots()\n",
    "plt.stem(unit_ids,freq,'o')\n",
    "plt.xlabel('Neuron')\n",
    "plt.xticks(unit_ids)\n",
    "plt.ylabel('Firing rate (Hz)')\n",
    "plt.savefig(\"Neuron firing rate.pdf\")"
   ]
  },
  {
   "cell_type": "code",
   "execution_count": null,
   "id": "9d836e74",
   "metadata": {},
   "outputs": [],
   "source": [
    "#unit waveforms\n",
    "unit_ids = sort_tdc.unit_ids\n",
    "\n",
    "for unit_id in unit_ids:\n",
    "    wfs = we.get_waveforms(unit_id)\n",
    "    print(unit_id, ':', wfs.shape)"
   ]
  },
  {
   "cell_type": "code",
   "execution_count": null,
   "id": "f823337e",
   "metadata": {},
   "outputs": [],
   "source": [
    "colors = ['Olive', 'Teal', 'Fuchsia']\n",
    "\n",
    "fig, ax = plt.subplots()\n",
    "for i, unit_id in enumerate(sort_tdc.unit_ids[1:3]):\n",
    "    wf = we.get_waveforms(unit_id)\n",
    "    color = colors[i]\n",
    "    ax.plot(wf[:, :, 1196].T, color=color, lw=0.3) # [x,y,z] plot x waveforms on channel z=1196 on y seconds"
   ]
  },
  {
   "cell_type": "code",
   "execution_count": null,
   "id": "832ad9f2",
   "metadata": {},
   "outputs": [],
   "source": [
    "#plot the templates\n",
    "for unit_id in unit_ids[:3]:\n",
    "    fig, ax = plt.subplots()\n",
    "    template = we.get_template(unit_id=unit_id, mode='average')\n",
    "    print(template.shape) #(num seconds, num wf)\n",
    "    ax.plot(template*LSB*1e6)\n",
    "    ax.set_ylabel('Amplitude(\\u03BCV)')\n",
    "    ax.set_xlabel('Number of samples')\n",
    "    ax.set_title(f'{unit_id}')\n",
    "\n",
    "plt.show()"
   ]
  },
  {
   "cell_type": "code",
   "execution_count": null,
   "id": "d677e58c",
   "metadata": {},
   "outputs": [],
   "source": [
    "fig, ax = plt.subplots()\n",
    "\n",
    "wf = we.get_waveforms(0)\n",
    "\n",
    "ax.plot(wf[:, :, 1196 ].T, color=color, lw=0.1) # [x,y,z] plot x waveforms on channel z=8 on y number of samples"
   ]
  },
  {
   "cell_type": "code",
   "execution_count": null,
   "id": "bbcbb570",
   "metadata": {},
   "outputs": [],
   "source": [
    "#search the channels for each unit having the highest peak\n",
    "extremum_channels_ids = tk.get_template_extremum_channel(we, peak_sign='neg')\n",
    "print(extremum_channels_ids)"
   ]
  },
  {
   "cell_type": "code",
   "execution_count": null,
   "id": "61404187",
   "metadata": {},
   "outputs": [],
   "source": [
    "myvar = extremum_channels_ids\n",
    "  \n",
    "# Open a file and use dump()\n",
    "with open('AISpos.pkl', 'wb') as file:\n",
    "      \n",
    "    # A new file will be created\n",
    "    pickle.dump(myvar, file)"
   ]
  },
  {
   "cell_type": "code",
   "execution_count": null,
   "id": "f4f5000a",
   "metadata": {},
   "outputs": [],
   "source": []
  },
  {
   "cell_type": "code",
   "execution_count": null,
   "id": "47bb5438",
   "metadata": {},
   "outputs": [],
   "source": []
  },
  {
   "cell_type": "code",
   "execution_count": null,
   "id": "fe345feb",
   "metadata": {},
   "outputs": [],
   "source": [
    "type(template)"
   ]
  },
  {
   "cell_type": "code",
   "execution_count": null,
   "id": "67dc25b6",
   "metadata": {},
   "outputs": [],
   "source": [
    "firing_rates = si.compute_firing_rate(we)\n",
    "print(firing_rates)\n",
    "isi_violation_ratio, isi_violations_rate, isi_violations_count = si.compute_isi_violations(we)\n",
    "print(isi_violation_ratio)\n",
    "snrs = si.compute_snrs(we)\n",
    "print(snrs)"
   ]
  },
  {
   "cell_type": "code",
   "execution_count": null,
   "id": "5284dd0f",
   "metadata": {},
   "outputs": [],
   "source": [
    "si.compute_isi_violations?"
   ]
  },
  {
   "cell_type": "code",
   "execution_count": null,
   "id": "bb6d9f2e",
   "metadata": {},
   "outputs": [],
   "source": [
    "si.compute_snrs?"
   ]
  },
  {
   "cell_type": "code",
   "execution_count": null,
   "id": "22a3340f",
   "metadata": {},
   "outputs": [],
   "source": [
    "w_ach = sw.plot_autocorrelograms(sort_tdc, window_ms=100.0, bin_ms=1.0, unit_ids=[3,10], symmetrize=True)\n"
   ]
  },
  {
   "cell_type": "code",
   "execution_count": null,
   "id": "b29243df",
   "metadata": {},
   "outputs": [],
   "source": [
    "we.get_template?"
   ]
  },
  {
   "cell_type": "code",
   "execution_count": null,
   "id": "daaea0d5",
   "metadata": {},
   "outputs": [],
   "source": [
    "we.get_waveforms?"
   ]
  },
  {
   "cell_type": "code",
   "execution_count": null,
   "id": "715c321f",
   "metadata": {},
   "outputs": [],
   "source": [
    "si.plot_crosscorrelograms?"
   ]
  },
  {
   "cell_type": "code",
   "execution_count": null,
   "id": "2c1a9283",
   "metadata": {},
   "outputs": [],
   "source": [
    "np.shape(wf)"
   ]
  },
  {
   "cell_type": "code",
   "execution_count": null,
   "id": "795f4004",
   "metadata": {},
   "outputs": [],
   "source": [
    "np.shape(template)"
   ]
  },
  {
   "cell_type": "code",
   "execution_count": null,
   "id": "5a6c72be",
   "metadata": {},
   "outputs": [],
   "source": []
  },
  {
   "cell_type": "code",
   "execution_count": null,
   "id": "9f7d78ab",
   "metadata": {},
   "outputs": [],
   "source": [
    "sig = rec.get_traces(channel_ids= [b'vrbN595'],return_scaled=False)\n",
    "\n",
    "t = np.linspace(0, len(sig)/20000,len(sig))\n",
    "LSB=(2/2024)/(1023);\n",
    "fs =20e3;\n",
    "sig2 = sig*LSB*1e6\n",
    "sig2 = sig2-np.mean(sig2)\n",
    "\n",
    "plt.figure()\n",
    "plt.plot(t,sig2)\n",
    "plt.show()\n",
    "plt.xlabel('Time (s)')\n",
    "plt.ylabel('Amplitude (\\u03BCV)')"
   ]
  },
  {
   "cell_type": "code",
   "execution_count": null,
   "id": "5844507e",
   "metadata": {},
   "outputs": [],
   "source": [
    "t = np.linspace(0, len(sig)/20000,len(sig))\n",
    "LSB=(2/2024)/(1023);\n",
    "fs =20e3;\n",
    "sig2 = sig*LSB*1e6\n",
    "sig2 = sig2-np.mean(sig2)\n",
    "\n",
    "plt.figure()\n",
    "plt.plot(t,sig2)\n",
    "plt.show()\n",
    "plt.xlabel('Time (s)')\n",
    "plt.ylabel('Amplitude (\\u03BCV)')"
   ]
  },
  {
   "cell_type": "code",
   "execution_count": null,
   "id": "3938f872",
   "metadata": {},
   "outputs": [],
   "source": []
  }
 ],
 "metadata": {
  "interpreter": {
   "hash": "7db72f269f63e442c6898b068e0d0ad99ac74e831aed79c543e2f7cea447f8c3"
  },
  "kernelspec": {
   "display_name": "Python 3",
   "language": "python",
   "name": "python3"
  },
  "language_info": {
   "codemirror_mode": {
    "name": "ipython",
    "version": 3
   },
   "file_extension": ".py",
   "mimetype": "text/x-python",
   "name": "python",
   "nbconvert_exporter": "python",
   "pygments_lexer": "ipython3",
   "version": "3.8.8"
  }
 },
 "nbformat": 4,
 "nbformat_minor": 5
}
